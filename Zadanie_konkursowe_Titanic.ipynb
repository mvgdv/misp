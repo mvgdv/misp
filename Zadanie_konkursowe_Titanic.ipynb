{
  "nbformat": 4,
  "nbformat_minor": 0,
  "metadata": {
    "kernelspec": {
      "name": "python3",
      "display_name": "Python 3",
      "language": "python"
    },
    "language_info": {
      "name": "python",
      "version": "3.7.6",
      "mimetype": "text/x-python",
      "codemirror_mode": {
        "name": "ipython",
        "version": 3
      },
      "pygments_lexer": "ipython3",
      "nbconvert_exporter": "python",
      "file_extension": ".py"
    },
    "colab": {
      "name": "Zadanie konkursowe - Titanic.ipynb",
      "provenance": []
    }
  },
  "cells": [
    {
      "cell_type": "markdown",
      "metadata": {
        "id": "dZzBvTpnu7ue"
      },
      "source": [
        "Należy znaleźć odpowiedź na pytanie, jacy ludzie mieli większe szanse na przeżycie katastroy Titanica w opraciu o takie dane jak między innymi: wiek, płeć, klasa w jakiej podróżowali, ilość członków rodziny, która była na pokładzie, itd.\n",
        "\n",
        "Kod był tworzony w notatniku na stronie Kaggle, pliki z danymi są dostępne w folderze Titanic."
      ]
    },
    {
      "cell_type": "markdown",
      "metadata": {
        "id": "_qnLl6hrv_IO"
      },
      "source": [
        "Import bibliotek i modeli."
      ]
    },
    {
      "cell_type": "code",
      "metadata": {
        "_uuid": "8f2839f25d086af736a60e9eeb907d3b93b6e0e5",
        "_cell_guid": "b1076dfc-b9ad-4769-8c92-a6c4dae69d19",
        "trusted": true,
        "id": "qMCkjL6duuJ9"
      },
      "source": [
        "import pandas as pd \n",
        "import seaborn as sns\n",
        "import matplotlib.pyplot as plt\n",
        "from sklearn.neighbors import KNeighborsClassifier\n",
        "from sklearn.ensemble import RandomForestClassifier\n",
        "from sklearn.model_selection import train_test_split\n",
        "from sklearn.metrics import mean_absolute_error\n",
        "from sklearn.tree import DecisionTreeClassifier\n",
        "\n",
        "from sklearn.linear_model import LogisticRegression\n",
        "from sklearn.svm import SVC, LinearSVC\n",
        "from sklearn.neighbors import KNeighborsClassifier\n",
        "from sklearn.linear_model import Perceptron"
      ],
      "execution_count": null,
      "outputs": []
    },
    {
      "cell_type": "markdown",
      "metadata": {
        "id": "d5eBkZB0v9Cw"
      },
      "source": [
        "Ścieżki plików z danymi."
      ]
    },
    {
      "cell_type": "code",
      "metadata": {
        "_uuid": "d629ff2d2480ee46fbb7e2d37f6b5fab8052498a",
        "_cell_guid": "79c7e3d0-c299-4dcb-8224-4455121ee9b0",
        "trusted": true,
        "id": "qNZFTcw0uuJ-",
        "outputId": "fdc727ac-b7b4-4608-aabf-0fd466b7e43b"
      },
      "source": [
        "gender_submission_path = '../input/titanic/gender_submission.csv'\n",
        "test_path = '../input/titanic/test.csv'\n",
        "train_path = '../input/titanic/train.csv'\n",
        "\n",
        "gender_submission = pd.read_csv(gender_submission_path) \n",
        "#gender_submission.head()\n",
        "\n",
        "test = pd.read_csv(test_path) \n",
        "test.head()\n",
        "\n",
        "train = pd.read_csv(train_path) \n",
        "train.head()"
      ],
      "execution_count": null,
      "outputs": [
        {
          "output_type": "execute_result",
          "data": {
            "text/plain": [
              "   PassengerId  Survived  Pclass  \\\n",
              "0            1         0       3   \n",
              "1            2         1       1   \n",
              "2            3         1       3   \n",
              "3            4         1       1   \n",
              "4            5         0       3   \n",
              "\n",
              "                                                Name     Sex   Age  SibSp  \\\n",
              "0                            Braund, Mr. Owen Harris    male  22.0      1   \n",
              "1  Cumings, Mrs. John Bradley (Florence Briggs Th...  female  38.0      1   \n",
              "2                             Heikkinen, Miss. Laina  female  26.0      0   \n",
              "3       Futrelle, Mrs. Jacques Heath (Lily May Peel)  female  35.0      1   \n",
              "4                           Allen, Mr. William Henry    male  35.0      0   \n",
              "\n",
              "   Parch            Ticket     Fare Cabin Embarked  \n",
              "0      0         A/5 21171   7.2500   NaN        S  \n",
              "1      0          PC 17599  71.2833   C85        C  \n",
              "2      0  STON/O2. 3101282   7.9250   NaN        S  \n",
              "3      0            113803  53.1000  C123        S  \n",
              "4      0            373450   8.0500   NaN        S  "
            ],
            "text/html": [
              "<div>\n",
              "<style scoped>\n",
              "    .dataframe tbody tr th:only-of-type {\n",
              "        vertical-align: middle;\n",
              "    }\n",
              "\n",
              "    .dataframe tbody tr th {\n",
              "        vertical-align: top;\n",
              "    }\n",
              "\n",
              "    .dataframe thead th {\n",
              "        text-align: right;\n",
              "    }\n",
              "</style>\n",
              "<table border=\"1\" class=\"dataframe\">\n",
              "  <thead>\n",
              "    <tr style=\"text-align: right;\">\n",
              "      <th></th>\n",
              "      <th>PassengerId</th>\n",
              "      <th>Survived</th>\n",
              "      <th>Pclass</th>\n",
              "      <th>Name</th>\n",
              "      <th>Sex</th>\n",
              "      <th>Age</th>\n",
              "      <th>SibSp</th>\n",
              "      <th>Parch</th>\n",
              "      <th>Ticket</th>\n",
              "      <th>Fare</th>\n",
              "      <th>Cabin</th>\n",
              "      <th>Embarked</th>\n",
              "    </tr>\n",
              "  </thead>\n",
              "  <tbody>\n",
              "    <tr>\n",
              "      <th>0</th>\n",
              "      <td>1</td>\n",
              "      <td>0</td>\n",
              "      <td>3</td>\n",
              "      <td>Braund, Mr. Owen Harris</td>\n",
              "      <td>male</td>\n",
              "      <td>22.0</td>\n",
              "      <td>1</td>\n",
              "      <td>0</td>\n",
              "      <td>A/5 21171</td>\n",
              "      <td>7.2500</td>\n",
              "      <td>NaN</td>\n",
              "      <td>S</td>\n",
              "    </tr>\n",
              "    <tr>\n",
              "      <th>1</th>\n",
              "      <td>2</td>\n",
              "      <td>1</td>\n",
              "      <td>1</td>\n",
              "      <td>Cumings, Mrs. John Bradley (Florence Briggs Th...</td>\n",
              "      <td>female</td>\n",
              "      <td>38.0</td>\n",
              "      <td>1</td>\n",
              "      <td>0</td>\n",
              "      <td>PC 17599</td>\n",
              "      <td>71.2833</td>\n",
              "      <td>C85</td>\n",
              "      <td>C</td>\n",
              "    </tr>\n",
              "    <tr>\n",
              "      <th>2</th>\n",
              "      <td>3</td>\n",
              "      <td>1</td>\n",
              "      <td>3</td>\n",
              "      <td>Heikkinen, Miss. Laina</td>\n",
              "      <td>female</td>\n",
              "      <td>26.0</td>\n",
              "      <td>0</td>\n",
              "      <td>0</td>\n",
              "      <td>STON/O2. 3101282</td>\n",
              "      <td>7.9250</td>\n",
              "      <td>NaN</td>\n",
              "      <td>S</td>\n",
              "    </tr>\n",
              "    <tr>\n",
              "      <th>3</th>\n",
              "      <td>4</td>\n",
              "      <td>1</td>\n",
              "      <td>1</td>\n",
              "      <td>Futrelle, Mrs. Jacques Heath (Lily May Peel)</td>\n",
              "      <td>female</td>\n",
              "      <td>35.0</td>\n",
              "      <td>1</td>\n",
              "      <td>0</td>\n",
              "      <td>113803</td>\n",
              "      <td>53.1000</td>\n",
              "      <td>C123</td>\n",
              "      <td>S</td>\n",
              "    </tr>\n",
              "    <tr>\n",
              "      <th>4</th>\n",
              "      <td>5</td>\n",
              "      <td>0</td>\n",
              "      <td>3</td>\n",
              "      <td>Allen, Mr. William Henry</td>\n",
              "      <td>male</td>\n",
              "      <td>35.0</td>\n",
              "      <td>0</td>\n",
              "      <td>0</td>\n",
              "      <td>373450</td>\n",
              "      <td>8.0500</td>\n",
              "      <td>NaN</td>\n",
              "      <td>S</td>\n",
              "    </tr>\n",
              "  </tbody>\n",
              "</table>\n",
              "</div>"
            ]
          },
          "metadata": {
            "tags": []
          },
          "execution_count": 56
        }
      ]
    },
    {
      "cell_type": "markdown",
      "metadata": {
        "id": "MmJylg1bwJF-"
      },
      "source": [
        "Sprawdzenie zależności przeżywalności od płci.\n",
        "\n",
        "Z wyników jest widoczne, że kobiety miały znacznie większe szanse na przeżycie."
      ]
    },
    {
      "cell_type": "code",
      "metadata": {
        "trusted": true,
        "id": "kYL0f_RjuuKA",
        "outputId": "045873fc-11d9-4263-c6e4-abf612c2aa7b"
      },
      "source": [
        "women = train.loc[train.Sex == 'female'][\"Survived\"]\n",
        "women_survived = sum(women)/len(women)\n",
        "print(\"Liczba kobiet w train.csv:\", len(women))\n",
        "print(\"Liczba kobiet, które przeżyły:\", sum(women))\n",
        "print(\"% kobiet, które przeżyły:\", women_survived)\n",
        "\n",
        "\n",
        "men = train.loc[train.Sex == 'male'][\"Survived\"]\n",
        "men_survived = sum(men)/len(men)\n",
        "print(\"Liczba mężczyzn w train.csv:\", len(men))\n",
        "print(\"Liczba mężczyzn, którzy przeżyli:\", sum(men))\n",
        "print(\"% mężczyzn, którzy przeżyli:\", men_survived)\n",
        "\n",
        "g = sns.FacetGrid(train, col='Sex')\n",
        "g.map(plt.hist, 'Survived', bins=2)"
      ],
      "execution_count": null,
      "outputs": [
        {
          "output_type": "stream",
          "text": [
            "Liczba kobiet w train.csv: 314\n",
            "Liczba kobiet, które przeżyły: 233\n",
            "% kobiet, które przeżyły: 0.7420382165605095\n",
            "Liczba mężczyzn w train.csv: 577\n",
            "Liczba mężczyzn, którzy przeżyli: 109\n",
            "% mężczyzn, którzy przeżyli: 0.18890814558058924\n"
          ],
          "name": "stdout"
        },
        {
          "output_type": "execute_result",
          "data": {
            "text/plain": [
              "<seaborn.axisgrid.FacetGrid at 0x7f7a86180890>"
            ]
          },
          "metadata": {
            "tags": []
          },
          "execution_count": 57
        },
        {
          "output_type": "display_data",
          "data": {
            "text/plain": [
              "<Figure size 432x216 with 2 Axes>"
            ],
            "image/png": "[encoded data removed]"
          },
          "metadata": {
            "tags": [],
            "needs_background": "light"
          }
        }
      ]
    },
    {
      "cell_type": "markdown",
      "metadata": {
        "id": "GiBEWGw6wL5i"
      },
      "source": [
        "Wyświetlenie na wykresie zależności przeżywalności/ umieralności od wieku.\n",
        "\n",
        "Dużą szansę na przeżycie miały małe dzieci oraz osoby pomiędzy 20 a 30 rokiem życia. "
      ]
    },
    {
      "cell_type": "code",
      "metadata": {
        "trusted": true,
        "id": "4jxuEenQuuKB",
        "outputId": "886643f3-955f-4fef-fbe0-0cea368b2c7a"
      },
      "source": [
        "g = sns.FacetGrid(train, col='Survived')\n",
        "g.map(plt.hist, 'Age', bins=15)"
      ],
      "execution_count": null,
      "outputs": [
        {
          "output_type": "execute_result",
          "data": {
            "text/plain": [
              "<seaborn.axisgrid.FacetGrid at 0x7f7a86875c90>"
            ]
          },
          "metadata": {
            "tags": []
          },
          "execution_count": 58
        },
        {
          "output_type": "display_data",
          "data": {
            "text/plain": [
              "<Figure size 432x216 with 2 Axes>"
            ],
            "image/png": "[encoded data removed]"
          },
          "metadata": {
            "tags": [],
            "needs_background": "light"
          }
        }
      ]
    },
    {
      "cell_type": "markdown",
      "metadata": {
        "id": "mMFjcaK5wYb9"
      },
      "source": [
        "Sprawdzenie zależności przeżywalności od klasy w której podróżowali pasażerowie."
      ]
    },
    {
      "cell_type": "code",
      "metadata": {
        "trusted": true,
        "id": "cpolZOfhuuKB",
        "outputId": "f91c2c62-2105-4bf3-9840-fed5fe4a47ba"
      },
      "source": [
        "train[['Pclass', 'Survived']].groupby(['Pclass'], as_index=False).mean().sort_values(by='Survived', ascending=False)"
      ],
      "execution_count": null,
      "outputs": [
        {
          "output_type": "execute_result",
          "data": {
            "text/plain": [
              "   Pclass  Survived\n",
              "0       1  0.629630\n",
              "1       2  0.472826\n",
              "2       3  0.242363"
            ],
            "text/html": [
              "<div>\n",
              "<style scoped>\n",
              "    .dataframe tbody tr th:only-of-type {\n",
              "        vertical-align: middle;\n",
              "    }\n",
              "\n",
              "    .dataframe tbody tr th {\n",
              "        vertical-align: top;\n",
              "    }\n",
              "\n",
              "    .dataframe thead th {\n",
              "        text-align: right;\n",
              "    }\n",
              "</style>\n",
              "<table border=\"1\" class=\"dataframe\">\n",
              "  <thead>\n",
              "    <tr style=\"text-align: right;\">\n",
              "      <th></th>\n",
              "      <th>Pclass</th>\n",
              "      <th>Survived</th>\n",
              "    </tr>\n",
              "  </thead>\n",
              "  <tbody>\n",
              "    <tr>\n",
              "      <th>0</th>\n",
              "      <td>1</td>\n",
              "      <td>0.629630</td>\n",
              "    </tr>\n",
              "    <tr>\n",
              "      <th>1</th>\n",
              "      <td>2</td>\n",
              "      <td>0.472826</td>\n",
              "    </tr>\n",
              "    <tr>\n",
              "      <th>2</th>\n",
              "      <td>3</td>\n",
              "      <td>0.242363</td>\n",
              "    </tr>\n",
              "  </tbody>\n",
              "</table>\n",
              "</div>"
            ]
          },
          "metadata": {
            "tags": []
          },
          "execution_count": 59
        }
      ]
    },
    {
      "cell_type": "markdown",
      "metadata": {
        "id": "13dmFffzwdvc"
      },
      "source": [
        "Sprawdzenie zależności przeżywalności od ilości członków rodziny na pokładzie."
      ]
    },
    {
      "cell_type": "code",
      "metadata": {
        "trusted": true,
        "id": "ja-Cz3rwuuKB",
        "outputId": "0589daba-7faa-4d4b-cc29-da7d224feb39"
      },
      "source": [
        "train[[\"SibSp\", \"Survived\"]].groupby(['SibSp'], as_index=False).mean().sort_values(by='Survived', ascending=False)"
      ],
      "execution_count": null,
      "outputs": [
        {
          "output_type": "execute_result",
          "data": {
            "text/plain": [
              "   SibSp  Survived\n",
              "1      1  0.535885\n",
              "2      2  0.464286\n",
              "0      0  0.345395\n",
              "3      3  0.250000\n",
              "4      4  0.166667\n",
              "5      5  0.000000\n",
              "6      8  0.000000"
            ],
            "text/html": [
              "<div>\n",
              "<style scoped>\n",
              "    .dataframe tbody tr th:only-of-type {\n",
              "        vertical-align: middle;\n",
              "    }\n",
              "\n",
              "    .dataframe tbody tr th {\n",
              "        vertical-align: top;\n",
              "    }\n",
              "\n",
              "    .dataframe thead th {\n",
              "        text-align: right;\n",
              "    }\n",
              "</style>\n",
              "<table border=\"1\" class=\"dataframe\">\n",
              "  <thead>\n",
              "    <tr style=\"text-align: right;\">\n",
              "      <th></th>\n",
              "      <th>SibSp</th>\n",
              "      <th>Survived</th>\n",
              "    </tr>\n",
              "  </thead>\n",
              "  <tbody>\n",
              "    <tr>\n",
              "      <th>1</th>\n",
              "      <td>1</td>\n",
              "      <td>0.535885</td>\n",
              "    </tr>\n",
              "    <tr>\n",
              "      <th>2</th>\n",
              "      <td>2</td>\n",
              "      <td>0.464286</td>\n",
              "    </tr>\n",
              "    <tr>\n",
              "      <th>0</th>\n",
              "      <td>0</td>\n",
              "      <td>0.345395</td>\n",
              "    </tr>\n",
              "    <tr>\n",
              "      <th>3</th>\n",
              "      <td>3</td>\n",
              "      <td>0.250000</td>\n",
              "    </tr>\n",
              "    <tr>\n",
              "      <th>4</th>\n",
              "      <td>4</td>\n",
              "      <td>0.166667</td>\n",
              "    </tr>\n",
              "    <tr>\n",
              "      <th>5</th>\n",
              "      <td>5</td>\n",
              "      <td>0.000000</td>\n",
              "    </tr>\n",
              "    <tr>\n",
              "      <th>6</th>\n",
              "      <td>8</td>\n",
              "      <td>0.000000</td>\n",
              "    </tr>\n",
              "  </tbody>\n",
              "</table>\n",
              "</div>"
            ]
          },
          "metadata": {
            "tags": []
          },
          "execution_count": 60
        }
      ]
    },
    {
      "cell_type": "markdown",
      "metadata": {
        "id": "PgvFc6pawjbv"
      },
      "source": [
        "Sprawdzenie zależności przeżywalności od ilości dzieci/ rodziców na pokładzie."
      ]
    },
    {
      "cell_type": "code",
      "metadata": {
        "trusted": true,
        "id": "H1NJvPz-uuKB",
        "outputId": "17968b5c-4c92-4683-f3bd-112182091a3f"
      },
      "source": [
        "train[[\"Parch\", \"Survived\"]].groupby(['Parch'], as_index=False).mean().sort_values(by='Survived', ascending=False)"
      ],
      "execution_count": null,
      "outputs": [
        {
          "output_type": "execute_result",
          "data": {
            "text/plain": [
              "   Parch  Survived\n",
              "3      3  0.600000\n",
              "1      1  0.550847\n",
              "2      2  0.500000\n",
              "0      0  0.343658\n",
              "5      5  0.200000\n",
              "4      4  0.000000\n",
              "6      6  0.000000"
            ],
            "text/html": [
              "<div>\n",
              "<style scoped>\n",
              "    .dataframe tbody tr th:only-of-type {\n",
              "        vertical-align: middle;\n",
              "    }\n",
              "\n",
              "    .dataframe tbody tr th {\n",
              "        vertical-align: top;\n",
              "    }\n",
              "\n",
              "    .dataframe thead th {\n",
              "        text-align: right;\n",
              "    }\n",
              "</style>\n",
              "<table border=\"1\" class=\"dataframe\">\n",
              "  <thead>\n",
              "    <tr style=\"text-align: right;\">\n",
              "      <th></th>\n",
              "      <th>Parch</th>\n",
              "      <th>Survived</th>\n",
              "    </tr>\n",
              "  </thead>\n",
              "  <tbody>\n",
              "    <tr>\n",
              "      <th>3</th>\n",
              "      <td>3</td>\n",
              "      <td>0.600000</td>\n",
              "    </tr>\n",
              "    <tr>\n",
              "      <th>1</th>\n",
              "      <td>1</td>\n",
              "      <td>0.550847</td>\n",
              "    </tr>\n",
              "    <tr>\n",
              "      <th>2</th>\n",
              "      <td>2</td>\n",
              "      <td>0.500000</td>\n",
              "    </tr>\n",
              "    <tr>\n",
              "      <th>0</th>\n",
              "      <td>0</td>\n",
              "      <td>0.343658</td>\n",
              "    </tr>\n",
              "    <tr>\n",
              "      <th>5</th>\n",
              "      <td>5</td>\n",
              "      <td>0.200000</td>\n",
              "    </tr>\n",
              "    <tr>\n",
              "      <th>4</th>\n",
              "      <td>4</td>\n",
              "      <td>0.000000</td>\n",
              "    </tr>\n",
              "    <tr>\n",
              "      <th>6</th>\n",
              "      <td>6</td>\n",
              "      <td>0.000000</td>\n",
              "    </tr>\n",
              "  </tbody>\n",
              "</table>\n",
              "</div>"
            ]
          },
          "metadata": {
            "tags": []
          },
          "execution_count": 61
        }
      ]
    },
    {
      "cell_type": "markdown",
      "metadata": {
        "id": "A3KWdLPQwmSI"
      },
      "source": [
        "Wybrane cechy, z które będą wykorzystywane do przewidywań, będzie to miało\n",
        "wpływ na rezultat końcowy."
      ]
    },
    {
      "cell_type": "code",
      "metadata": {
        "trusted": true,
        "id": "vePel615uuKC"
      },
      "source": [
        "features = [\"Sex\", \"Pclass\", \"SibSp\",\"Fare\",\"Parch\"]\n",
        "#features = [\"Sex\", \"Pclass\", \"SibSp\"]\n",
        "#features = [\"Sex\", \"Pclass\"]"
      ],
      "execution_count": null,
      "outputs": []
    },
    {
      "cell_type": "code",
      "metadata": {
        "trusted": true,
        "id": "wNdeg400uuKC"
      },
      "source": [
        "\n",
        "y = train[\"Survived\"]\n",
        "X = pd.get_dummies(train[features])"
      ],
      "execution_count": null,
      "outputs": []
    },
    {
      "cell_type": "markdown",
      "metadata": {
        "id": "WqIC5Ykiws6U"
      },
      "source": [
        "Podział danych na trenujące i walidacyjne, użycie random_state zapewnia taki sam podział za każdym razem."
      ]
    },
    {
      "cell_type": "code",
      "metadata": {
        "trusted": true,
        "id": "_kGK_BtmuuKC"
      },
      "source": [
        "train_X, val_X, train_y, val_y = train_test_split(X, y, random_state = 0)"
      ],
      "execution_count": null,
      "outputs": []
    },
    {
      "cell_type": "markdown",
      "metadata": {
        "id": "RY7Kb2nMwvwM"
      },
      "source": [
        "Przekształcenie zmiennych, które są kategoriami na serię zer i jedynek (w tym przypadku płeć, stworzenie nowych kolumn odpowiadających każdej z płci, przypisanie odpowiednio zera lub jedynki)"
      ]
    },
    {
      "cell_type": "code",
      "metadata": {
        "trusted": true,
        "id": "zoSRc25tuuKC",
        "outputId": "29ac6e76-2790-4627-a6d3-afbbaa9075b6"
      },
      "source": [
        "X_test = pd.get_dummies(test[features])\n",
        "# Wypełnianie NaN\n",
        "X = X.fillna(0)\n",
        "X_test = X_test.fillna(0)\n",
        "X_test.describe()"
      ],
      "execution_count": null,
      "outputs": [
        {
          "output_type": "execute_result",
          "data": {
            "text/plain": [
              "           Pclass       SibSp        Fare       Parch  Sex_female    Sex_male\n",
              "count  418.000000  418.000000  418.000000  418.000000  418.000000  418.000000\n",
              "mean     2.265550    0.447368   35.541956    0.392344    0.363636    0.636364\n",
              "std      0.841838    0.896760   55.867684    0.981429    0.481622    0.481622\n",
              "min      1.000000    0.000000    0.000000    0.000000    0.000000    0.000000\n",
              "25%      1.000000    0.000000    7.895800    0.000000    0.000000    0.000000\n",
              "50%      3.000000    0.000000   14.454200    0.000000    0.000000    1.000000\n",
              "75%      3.000000    1.000000   31.471875    0.000000    1.000000    1.000000\n",
              "max      3.000000    8.000000  512.329200    9.000000    1.000000    1.000000"
            ],
            "text/html": [
              "<div>\n",
              "<style scoped>\n",
              "    .dataframe tbody tr th:only-of-type {\n",
              "        vertical-align: middle;\n",
              "    }\n",
              "\n",
              "    .dataframe tbody tr th {\n",
              "        vertical-align: top;\n",
              "    }\n",
              "\n",
              "    .dataframe thead th {\n",
              "        text-align: right;\n",
              "    }\n",
              "</style>\n",
              "<table border=\"1\" class=\"dataframe\">\n",
              "  <thead>\n",
              "    <tr style=\"text-align: right;\">\n",
              "      <th></th>\n",
              "      <th>Pclass</th>\n",
              "      <th>SibSp</th>\n",
              "      <th>Fare</th>\n",
              "      <th>Parch</th>\n",
              "      <th>Sex_female</th>\n",
              "      <th>Sex_male</th>\n",
              "    </tr>\n",
              "  </thead>\n",
              "  <tbody>\n",
              "    <tr>\n",
              "      <th>count</th>\n",
              "      <td>418.000000</td>\n",
              "      <td>418.000000</td>\n",
              "      <td>418.000000</td>\n",
              "      <td>418.000000</td>\n",
              "      <td>418.000000</td>\n",
              "      <td>418.000000</td>\n",
              "    </tr>\n",
              "    <tr>\n",
              "      <th>mean</th>\n",
              "      <td>2.265550</td>\n",
              "      <td>0.447368</td>\n",
              "      <td>35.541956</td>\n",
              "      <td>0.392344</td>\n",
              "      <td>0.363636</td>\n",
              "      <td>0.636364</td>\n",
              "    </tr>\n",
              "    <tr>\n",
              "      <th>std</th>\n",
              "      <td>0.841838</td>\n",
              "      <td>0.896760</td>\n",
              "      <td>55.867684</td>\n",
              "      <td>0.981429</td>\n",
              "      <td>0.481622</td>\n",
              "      <td>0.481622</td>\n",
              "    </tr>\n",
              "    <tr>\n",
              "      <th>min</th>\n",
              "      <td>1.000000</td>\n",
              "      <td>0.000000</td>\n",
              "      <td>0.000000</td>\n",
              "      <td>0.000000</td>\n",
              "      <td>0.000000</td>\n",
              "      <td>0.000000</td>\n",
              "    </tr>\n",
              "    <tr>\n",
              "      <th>25%</th>\n",
              "      <td>1.000000</td>\n",
              "      <td>0.000000</td>\n",
              "      <td>7.895800</td>\n",
              "      <td>0.000000</td>\n",
              "      <td>0.000000</td>\n",
              "      <td>0.000000</td>\n",
              "    </tr>\n",
              "    <tr>\n",
              "      <th>50%</th>\n",
              "      <td>3.000000</td>\n",
              "      <td>0.000000</td>\n",
              "      <td>14.454200</td>\n",
              "      <td>0.000000</td>\n",
              "      <td>0.000000</td>\n",
              "      <td>1.000000</td>\n",
              "    </tr>\n",
              "    <tr>\n",
              "      <th>75%</th>\n",
              "      <td>3.000000</td>\n",
              "      <td>1.000000</td>\n",
              "      <td>31.471875</td>\n",
              "      <td>0.000000</td>\n",
              "      <td>1.000000</td>\n",
              "      <td>1.000000</td>\n",
              "    </tr>\n",
              "    <tr>\n",
              "      <th>max</th>\n",
              "      <td>3.000000</td>\n",
              "      <td>8.000000</td>\n",
              "      <td>512.329200</td>\n",
              "      <td>9.000000</td>\n",
              "      <td>1.000000</td>\n",
              "      <td>1.000000</td>\n",
              "    </tr>\n",
              "  </tbody>\n",
              "</table>\n",
              "</div>"
            ]
          },
          "metadata": {
            "tags": []
          },
          "execution_count": 65
        }
      ]
    },
    {
      "cell_type": "markdown",
      "metadata": {
        "id": "sFrMgyhqwyzU"
      },
      "source": [
        "Zostanie porównane kilka algorytmów. Ten z najlepszym wynikiem zostanie wykorzystany do podania ostatecznych przewidywań. "
      ]
    },
    {
      "cell_type": "markdown",
      "metadata": {
        "id": "gWSfkch6w2pl"
      },
      "source": [
        "**k-Nearest Neighbors algorithm** (algorytm k najbliższych sąsiadów) - polega na przyporządkowaniu danej do istniejącej grupy, po znalezieniu k najbliższyc obiektów wybiera się tę grupę, która jest najliczniejsza."
      ]
    },
    {
      "cell_type": "code",
      "metadata": {
        "trusted": true,
        "id": "P_4Oe1OsuuKC",
        "outputId": "43b169cd-e2bc-402d-f238-c6fdd5d1c96a"
      },
      "source": [
        "model_KNN = KNeighborsClassifier(n_neighbors = 3)\n",
        "model_KNN.fit(train_X, train_y)\n",
        "val_predictions_KNN = model_KNN.predict(X_test)\n",
        "skuteczność_knn = round(model_KNN.score(val_X, val_y) * 100, 2)\n",
        "skuteczność_knn"
      ],
      "execution_count": null,
      "outputs": [
        {
          "output_type": "execute_result",
          "data": {
            "text/plain": [
              "80.27"
            ]
          },
          "metadata": {
            "tags": []
          },
          "execution_count": 67
        }
      ]
    },
    {
      "cell_type": "markdown",
      "metadata": {
        "id": "H2s5wB6Xw96Y"
      },
      "source": [
        "**Logistic Regression** (regresja logistyczna) - polega na obliczeniu stosunku prawdopodobieństwa sukcesu do prawdopodobieństwa porażki."
      ]
    },
    {
      "cell_type": "code",
      "metadata": {
        "trusted": true,
        "id": "NEIjfF_zuuKC",
        "outputId": "7eb32cfb-5d47-4ab3-c04b-85caf956f96b"
      },
      "source": [
        "model_logisticRegression = LogisticRegression() \n",
        "model_logisticRegression.fit(train_X, train_y)\n",
        "val_predictions_LR = model_logisticRegression.predict(X_test)\n",
        "skuteczność_logreg = round(model_logisticRegression.score(val_X, val_y) * 100, 2)\n",
        "skuteczność_logreg"
      ],
      "execution_count": null,
      "outputs": [
        {
          "output_type": "execute_result",
          "data": {
            "text/plain": [
              "78.92"
            ]
          },
          "metadata": {
            "tags": []
          },
          "execution_count": 68
        }
      ]
    },
    {
      "cell_type": "markdown",
      "metadata": {
        "id": "K0NF_BtVxCfk"
      },
      "source": [
        "**Perceptron** - najprostsza sieć neuronowa, jest  w stanie określić przynależność danych wejściowych do jednej z dwóch klas.\n"
      ]
    },
    {
      "cell_type": "code",
      "metadata": {
        "trusted": true,
        "id": "AZF9lVSQuuKD",
        "outputId": "1035bdf6-bcea-4202-de1e-6c796a6f8f2b"
      },
      "source": [
        "model_perceptron = Perceptron()\n",
        "model_perceptron.fit(train_X, train_y)\n",
        "val_prediction_P = model_perceptron.predict(X_test)\n",
        "skuteczność_perceptron = round(model_perceptron.score(val_X, val_y) * 100, 2)\n",
        "skuteczność_perceptron"
      ],
      "execution_count": null,
      "outputs": [
        {
          "output_type": "execute_result",
          "data": {
            "text/plain": [
              "62.33"
            ]
          },
          "metadata": {
            "tags": []
          },
          "execution_count": 69
        }
      ]
    },
    {
      "cell_type": "markdown",
      "metadata": {
        "id": "-ftY_4oTxFXf"
      },
      "source": [
        "**Support Vector Machines**"
      ]
    },
    {
      "cell_type": "code",
      "metadata": {
        "trusted": true,
        "id": "DEvXl3BnuuKD",
        "outputId": "c64e7a93-ce0d-468d-8ab2-499c2bfb911b"
      },
      "source": [
        "model_svc = SVC()\n",
        "model_svc.fit(train_X, train_y)\n",
        "val_predictions_SVC = model_svc.predict(X_test)\n",
        "skuteczność_svc = round(model_svc.score(val_X, val_y) * 100, 2)\n",
        "skuteczność_svc"
      ],
      "execution_count": null,
      "outputs": [
        {
          "output_type": "execute_result",
          "data": {
            "text/plain": [
              "71.75"
            ]
          },
          "metadata": {
            "tags": []
          },
          "execution_count": 70
        }
      ]
    },
    {
      "cell_type": "markdown",
      "metadata": {
        "id": "qGribJ7fxLBr"
      },
      "source": [
        "**Decision tree (drzewo decyzyjne)** - drzewo składa się z korzenia i gałęzi, które prowadzą do kolejnych wierzchołków.\n",
        "Gdy z wierzchołka wychodzi co najmniej jedna krawędź - nazywany jest on węzłem, natomiast pozostałe wierzchołki to liście."
      ]
    },
    {
      "cell_type": "code",
      "metadata": {
        "trusted": true,
        "id": "2QJtwrajuuKD",
        "outputId": "6fbbb286-a6ac-448a-b921-9ce90a3cebb0"
      },
      "source": [
        "model_decision_tree = DecisionTreeClassifier()\n",
        "model_decision_tree.fit(train_X, train_y)\n",
        "val_predictions_DT = model_decision_tree.predict(X_test)\n",
        "skuteczność_decision_tree = round(model_decision_tree.score(val_X, val_y) * 100, 2)\n",
        "skuteczność_decision_tree"
      ],
      "execution_count": null,
      "outputs": [
        {
          "output_type": "execute_result",
          "data": {
            "text/plain": [
              "82.96"
            ]
          },
          "metadata": {
            "tags": []
          },
          "execution_count": 71
        }
      ]
    },
    {
      "cell_type": "markdown",
      "metadata": {
        "id": "zdcsSHZ2xO1g"
      },
      "source": [
        "**Random Forest** (Las losowy) - uogólnienie algorytmu drzew decyzyjnych, klasyfikacja odbywa się za pomocą drzew decyzyjnych, ostateczne decyzje są wynikiem głosowania większościowego nad klasami wskazanymi przez poszczególne drzewa decyzyjne."
      ]
    },
    {
      "cell_type": "code",
      "metadata": {
        "trusted": true,
        "id": "5wrDoH3vuuKD",
        "outputId": "19de9ffb-196b-432d-8dc0-c1de715f117f"
      },
      "source": [
        "model_random_forest = RandomForestClassifier(n_estimators=100)\n",
        "model_random_forest.fit(train_X, train_y)\n",
        "val_predictions_RF = model_random_forest.predict(X_test)\n",
        "skuteczność_random_forest = round(model_random_forest.score(val_X, val_y) * 100, 2)\n",
        "skuteczność_random_forest"
      ],
      "execution_count": null,
      "outputs": [
        {
          "output_type": "execute_result",
          "data": {
            "text/plain": [
              "82.06"
            ]
          },
          "metadata": {
            "tags": []
          },
          "execution_count": 72
        }
      ]
    },
    {
      "cell_type": "markdown",
      "metadata": {
        "id": "fZPseoCExUID"
      },
      "source": [
        "Porównanie wyników osiągniętych przez badane modele."
      ]
    },
    {
      "cell_type": "code",
      "metadata": {
        "trusted": true,
        "id": "rEuxOyZYuuKE",
        "outputId": "f91093dd-5087-4104-d9ad-ca329fcbc851"
      },
      "source": [
        "models = pd.DataFrame({\n",
        "    'Model': ['KNN', 'Logistic Regression', 'Support Vector Machines', \n",
        "              'Perceptron', 'Random Forest','Decision Tree'],\n",
        "    'Uzyskany wynik': [skuteczność_knn, skuteczność_logreg, skuteczność_svc,\n",
        "              skuteczność_perceptron, skuteczność_random_forest, skuteczność_decision_tree]})\n",
        "models.sort_values(by='Uzyskany wynik', ascending=False)"
      ],
      "execution_count": null,
      "outputs": [
        {
          "output_type": "execute_result",
          "data": {
            "text/plain": [
              "                     Model  Uzyskany wynik\n",
              "5            Decision Tree           82.96\n",
              "4            Random Forest           82.06\n",
              "0                      KNN           80.27\n",
              "1      Logistic Regression           78.92\n",
              "2  Support Vector Machines           71.75\n",
              "3               Perceptron           62.33"
            ],
            "text/html": [
              "<div>\n",
              "<style scoped>\n",
              "    .dataframe tbody tr th:only-of-type {\n",
              "        vertical-align: middle;\n",
              "    }\n",
              "\n",
              "    .dataframe tbody tr th {\n",
              "        vertical-align: top;\n",
              "    }\n",
              "\n",
              "    .dataframe thead th {\n",
              "        text-align: right;\n",
              "    }\n",
              "</style>\n",
              "<table border=\"1\" class=\"dataframe\">\n",
              "  <thead>\n",
              "    <tr style=\"text-align: right;\">\n",
              "      <th></th>\n",
              "      <th>Model</th>\n",
              "      <th>Uzyskany wynik</th>\n",
              "    </tr>\n",
              "  </thead>\n",
              "  <tbody>\n",
              "    <tr>\n",
              "      <th>5</th>\n",
              "      <td>Decision Tree</td>\n",
              "      <td>82.96</td>\n",
              "    </tr>\n",
              "    <tr>\n",
              "      <th>4</th>\n",
              "      <td>Random Forest</td>\n",
              "      <td>82.06</td>\n",
              "    </tr>\n",
              "    <tr>\n",
              "      <th>0</th>\n",
              "      <td>KNN</td>\n",
              "      <td>80.27</td>\n",
              "    </tr>\n",
              "    <tr>\n",
              "      <th>1</th>\n",
              "      <td>Logistic Regression</td>\n",
              "      <td>78.92</td>\n",
              "    </tr>\n",
              "    <tr>\n",
              "      <th>2</th>\n",
              "      <td>Support Vector Machines</td>\n",
              "      <td>71.75</td>\n",
              "    </tr>\n",
              "    <tr>\n",
              "      <th>3</th>\n",
              "      <td>Perceptron</td>\n",
              "      <td>62.33</td>\n",
              "    </tr>\n",
              "  </tbody>\n",
              "</table>\n",
              "</div>"
            ]
          },
          "metadata": {
            "tags": []
          },
          "execution_count": 76
        }
      ]
    },
    {
      "cell_type": "markdown",
      "metadata": {
        "id": "h9PNnRzLxYsF"
      },
      "source": [
        "Wynik uzyskany przez Random Forest oraz Decision Tree jest zbliżony. \n",
        "Zostaje wykorzystany Decision Tree.\n",
        "\n",
        "Poniżej lista pasażerów z informacją czy przeżyli czy nie."
      ]
    },
    {
      "cell_type": "code",
      "metadata": {
        "trusted": true,
        "id": "LM7sMLW1uuKE",
        "outputId": "9b46d121-20b8-4377-df66-08cf2b88bc05"
      },
      "source": [
        "output = pd.DataFrame({'PassengerId': test[\"PassengerId\"], 'Survived': val_predictions_DT})\n",
        "print(output)"
      ],
      "execution_count": null,
      "outputs": [
        {
          "output_type": "stream",
          "text": [
            "     PassengerId  Survived\n",
            "0            892         0\n",
            "1            893         1\n",
            "2            894         0\n",
            "3            895         0\n",
            "4            896         0\n",
            "..           ...       ...\n",
            "413         1305         0\n",
            "414         1306         1\n",
            "415         1307         0\n",
            "416         1308         0\n",
            "417         1309         0\n",
            "\n",
            "[418 rows x 2 columns]\n"
          ],
          "name": "stdout"
        }
      ]
    },
    {
      "cell_type": "markdown",
      "metadata": {
        "id": "AJRAgCI0xosB"
      },
      "source": [
        "Zliczenie, ile osób przeżyło, a ile nie."
      ]
    },
    {
      "cell_type": "code",
      "metadata": {
        "trusted": true,
        "id": "L3uL8jdRuuKE",
        "outputId": "8582be97-3ad1-44c1-e22b-72afc9bc36f0"
      },
      "source": [
        "output.groupby(['Survived'])['Survived'].count()"
      ],
      "execution_count": null,
      "outputs": [
        {
          "output_type": "execute_result",
          "data": {
            "text/plain": [
              "Survived\n",
              "0    261\n",
              "1    157\n",
              "Name: Survived, dtype: int64"
            ]
          },
          "metadata": {
            "tags": []
          },
          "execution_count": 78
        }
      ]
    }
  ]
}