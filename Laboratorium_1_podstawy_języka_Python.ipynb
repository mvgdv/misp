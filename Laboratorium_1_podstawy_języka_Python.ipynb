{
  "nbformat": 4,
  "nbformat_minor": 0,
  "metadata": {
    "colab": {
      "name": "Laboratorium 1 - podstawy języka Python",
      "provenance": [],
      "collapsed_sections": []
    },
    "kernelspec": {
      "name": "python3",
      "display_name": "Python 3"
    }
  },
  "cells": [
    {
      "cell_type": "markdown",
      "metadata": {
        "id": "HxhJ8yLTSUd4"
      },
      "source": [
        "# **Laboratorium 1** - podstawy języka Python"
      ]
    },
    {
      "cell_type": "markdown",
      "metadata": {
        "id": "Yb4ezNnQSUAx"
      },
      "source": [
        "Podczas pierwszych zajęć zostały przedstawione podstawy programowania w języku Python (między innymi składnia tego języka, instrukcje warunkowe, pętle). Poniżej znajduje się kod z laboratorium. Po zapoznaniu się z jego działaniem należało zrealizować podane przez prowadzącego zadania, ich rozwiązania widoczne są na dole notatnika. "
      ]
    },
    {
      "cell_type": "code",
      "metadata": {
        "colab": {
          "base_uri": "https://localhost:8080/"
        },
        "id": "H8SJPNQjSY3k",
        "outputId": "ac458dab-2160-410f-c4f9-c62788e7390d"
      },
      "source": [
        "# komentarz\n",
        "\n",
        "# if\n",
        "\n",
        "wielkosc = 5\n",
        "\n",
        "print(wielkosc)"
      ],
      "execution_count": 3,
      "outputs": [
        {
          "output_type": "stream",
          "text": [
            "5\n"
          ],
          "name": "stdout"
        }
      ]
    },
    {
      "cell_type": "code",
      "metadata": {
        "colab": {
          "base_uri": "https://localhost:8080/"
        },
        "id": "iNeVs32dSa4Q",
        "outputId": "a05ef8a8-b311-4c38-e7cd-97a06f23f6d2"
      },
      "source": [
        "if wielkosc >6:\n",
        "    print(\"ale duze\")\n",
        "elif wielkosc < 3:\n",
        "    print(\"malutkie\")\n",
        "    print('franek')\n",
        "else:\n",
        "    print(\"w sam raz\")"
      ],
      "execution_count": 4,
      "outputs": [
        {
          "output_type": "stream",
          "text": [
            "w sam raz\n"
          ],
          "name": "stdout"
        }
      ]
    },
    {
      "cell_type": "code",
      "metadata": {
        "colab": {
          "base_uri": "https://localhost:8080/"
        },
        "id": "97FhMuK2SbDW",
        "outputId": "0d6f067a-6d2c-4cf1-ebed-decdfba672ae"
      },
      "source": [
        "studenci = [\"Ania\", \"Zosia\", \"Kasia\", \"Franek\"]\n",
        "\n",
        "print(studenci)"
      ],
      "execution_count": 5,
      "outputs": [
        {
          "output_type": "stream",
          "text": [
            "['Ania', 'Zosia', 'Kasia', 'Franek']\n"
          ],
          "name": "stdout"
        }
      ]
    },
    {
      "cell_type": "code",
      "metadata": {
        "colab": {
          "base_uri": "https://localhost:8080/",
          "height": 35
        },
        "id": "pPcevRD-SbMm",
        "outputId": "4de776dd-4c57-454f-d7ef-69dc515cc3bc"
      },
      "source": [
        "studenci[0][1]"
      ],
      "execution_count": 6,
      "outputs": [
        {
          "output_type": "execute_result",
          "data": {
            "application/vnd.google.colaboratory.intrinsic+json": {
              "type": "string"
            },
            "text/plain": [
              "'n'"
            ]
          },
          "metadata": {
            "tags": []
          },
          "execution_count": 6
        }
      ]
    },
    {
      "cell_type": "code",
      "metadata": {
        "colab": {
          "base_uri": "https://localhost:8080/"
        },
        "id": "j_ATKYzOSgr4",
        "outputId": "c1a6c1a9-2ea9-4801-cd98-02aab396bb1e"
      },
      "source": [
        "for student in studenci:\n",
        "    print(\"student ma na imie:\", student)\n",
        "    \n",
        "for student in studenci:\n",
        "    print(student)\n",
        "    if student[0]==\"A\":\n",
        "        print(\"student na poczatku alfabetu\")"
      ],
      "execution_count": 7,
      "outputs": [
        {
          "output_type": "stream",
          "text": [
            "student ma na imie: Ania\n",
            "student ma na imie: Zosia\n",
            "student ma na imie: Kasia\n",
            "student ma na imie: Franek\n",
            "Ania\n",
            "student na poczatku alfabetu\n",
            "Zosia\n",
            "Kasia\n",
            "Franek\n"
          ],
          "name": "stdout"
        }
      ]
    },
    {
      "cell_type": "code",
      "metadata": {
        "colab": {
          "base_uri": "https://localhost:8080/"
        },
        "id": "Kddt9n3kSg2-",
        "outputId": "925b9b2c-caf7-4a6b-83c0-800e0636afb4"
      },
      "source": [
        "for numer, student in enumerate(studenci):\n",
        "    print(\"student {} ma numer {}\".format(student,numer))"
      ],
      "execution_count": 8,
      "outputs": [
        {
          "output_type": "stream",
          "text": [
            "student Ania ma numer 0\n",
            "student Zosia ma numer 1\n",
            "student Kasia ma numer 2\n",
            "student Franek ma numer 3\n"
          ],
          "name": "stdout"
        }
      ]
    },
    {
      "cell_type": "code",
      "metadata": {
        "colab": {
          "base_uri": "https://localhost:8080/"
        },
        "id": "QY7rmLmsShAZ",
        "outputId": "aee08335-2983-4024-ee01-34c9a3364a8f"
      },
      "source": [
        "oceny = [2,2,5,3]\n",
        "\n",
        "for numer, student in enumerate(studenci):\n",
        "    print(\"student {} ma numer {} i ocenę {}\".format(student,numer,oceny[numer]))\n",
        "\n",
        "print(\"--\"*20)    \n",
        "for number, (student, ocena) in enumerate(zip(studenci,oceny)):\n",
        "    print(\"student {} ma numer {} i ocenę {}\".format(student,number,ocena))"
      ],
      "execution_count": 9,
      "outputs": [
        {
          "output_type": "stream",
          "text": [
            "student Ania ma numer 0 i ocenę 2\n",
            "student Zosia ma numer 1 i ocenę 2\n",
            "student Kasia ma numer 2 i ocenę 5\n",
            "student Franek ma numer 3 i ocenę 3\n",
            "----------------------------------------\n",
            "student Ania ma numer 0 i ocenę 2\n",
            "student Zosia ma numer 1 i ocenę 2\n",
            "student Kasia ma numer 2 i ocenę 5\n",
            "student Franek ma numer 3 i ocenę 3\n"
          ],
          "name": "stdout"
        }
      ]
    },
    {
      "cell_type": "code",
      "metadata": {
        "id": "9CYW5kePSkr4"
      },
      "source": [
        "trzy_elementy= [1,2,3]\n",
        "pierwszy,drugi,trzeci= trzy_elementy"
      ],
      "execution_count": 10,
      "outputs": []
    },
    {
      "cell_type": "code",
      "metadata": {
        "colab": {
          "base_uri": "https://localhost:8080/"
        },
        "id": "z6WiuB7ESk4u",
        "outputId": "2f7fb2e3-698e-4823-ebe8-fe679634e206"
      },
      "source": [
        "n = 1\n",
        "\n",
        "while(n < 10):\n",
        "    print(n)\n",
        "    n+=1"
      ],
      "execution_count": 11,
      "outputs": [
        {
          "output_type": "stream",
          "text": [
            "1\n",
            "2\n",
            "3\n",
            "4\n",
            "5\n",
            "6\n",
            "7\n",
            "8\n",
            "9\n"
          ],
          "name": "stdout"
        }
      ]
    },
    {
      "cell_type": "code",
      "metadata": {
        "id": "zNij3RyhSlCu"
      },
      "source": [
        "def dodaj_dwa(liczba):\n",
        "    return liczba+2\n",
        "\n",
        "def dodaj_trzy(liczba):\n",
        "    return liczba+3\n",
        "\n",
        "def dodaj_dwie_liczby(liczba1,liczba2):\n",
        "    return liczba1+liczba2\n",
        "\n",
        "\n",
        "dodaj_cztery = lambda liczba:liczba+4"
      ],
      "execution_count": 12,
      "outputs": []
    },
    {
      "cell_type": "code",
      "metadata": {
        "colab": {
          "base_uri": "https://localhost:8080/"
        },
        "id": "e1rMhUZdSqa8",
        "outputId": "09e5ad87-b738-4b77-dc06-8809d90744c7"
      },
      "source": [
        "funkcje=[dodaj_dwa,dodaj_trzy,dodaj_cztery]\n",
        "\n",
        "jakis_nr= 10\n",
        "\n",
        "for funkcja in funkcje:\n",
        "    print(funkcja(jakis_nr))"
      ],
      "execution_count": 13,
      "outputs": [
        {
          "output_type": "stream",
          "text": [
            "12\n",
            "13\n",
            "14\n"
          ],
          "name": "stdout"
        }
      ]
    },
    {
      "cell_type": "code",
      "metadata": {
        "colab": {
          "base_uri": "https://localhost:8080/"
        },
        "id": "4jkd4C0gSqk0",
        "outputId": "27f10a9d-fa4f-4ffb-96dd-d7e55b1d6ad5"
      },
      "source": [
        "studenci[0]\n",
        "studenci[1:]\n",
        "studenci[:-1]"
      ],
      "execution_count": 14,
      "outputs": [
        {
          "output_type": "execute_result",
          "data": {
            "text/plain": [
              "['Ania', 'Zosia', 'Kasia']"
            ]
          },
          "metadata": {
            "tags": []
          },
          "execution_count": 14
        }
      ]
    },
    {
      "cell_type": "markdown",
      "metadata": {
        "id": "TaXLRUc3St9q"
      },
      "source": [
        "## Zadania do samodzielnej realizacji"
      ]
    },
    {
      "cell_type": "markdown",
      "metadata": {
        "id": "MpP7P-9qSw-F"
      },
      "source": [
        "###**Zadanie 1**"
      ]
    },
    {
      "cell_type": "code",
      "metadata": {
        "id": "TJzhfeBQS0d3"
      },
      "source": [
        "zajecia = [\"wf\",\"informatyka\",\"relax\",\"mispy\",\"piateczek\"]\n",
        "\n",
        "dnityg= [\"Pon\",\"Wto\",\"Sro\",\"Czwar\",\"Pio\"]"
      ],
      "execution_count": 15,
      "outputs": []
    },
    {
      "cell_type": "markdown",
      "metadata": {
        "id": "Dbfsu7L8S3UQ"
      },
      "source": [
        "**Zadanie 1a** - wyprintuj zajęcia od środy do piątku"
      ]
    },
    {
      "cell_type": "markdown",
      "metadata": {
        "id": "FDuli3GRS3ld"
      },
      "source": [
        "Została wykorzystana funkcja *print()* oraz pętla *while*. Indeksowanie w tablicy zaczyna się od 0, dlatego wyświetlane są jej wartości od elementu o indeksie 2, co odpowiada środzie."
      ]
    },
    {
      "cell_type": "code",
      "metadata": {
        "colab": {
          "base_uri": "https://localhost:8080/"
        },
        "id": "EzK85vQeSqtE",
        "outputId": "14cbfe25-abd9-41d9-f48c-cc17f50d584f"
      },
      "source": [
        "licznik = 2\n",
        "while licznik != 5:\n",
        "    print(\"Zajęcia w \" + dnityg[licznik] + \" to \"+ zajecia[licznik])\n",
        "    licznik += 1"
      ],
      "execution_count": 16,
      "outputs": [
        {
          "output_type": "stream",
          "text": [
            "Zajęcia w Sro to relax\n",
            "Zajęcia w Czwar to mispy\n",
            "Zajęcia w Pio to piateczek\n"
          ],
          "name": "stdout"
        }
      ]
    },
    {
      "cell_type": "markdown",
      "metadata": {
        "id": "Ypk-dwroS_j8"
      },
      "source": [
        "**Zadanie 1b** - wyprintuj zajęcia oprócz środy"
      ]
    },
    {
      "cell_type": "markdown",
      "metadata": {
        "id": "Kmk_jvq3S_xu"
      },
      "source": [
        "Zostały wykorzystane pętla *for* oraz funkcje *print()* i *zip()*. Druga z nich służy do konsolidacji danych. Jako parametry przyjmuje ona funkcję oraz jedną lub więcej sekwencji. Następnie zwraca listę krotek, których poszczególne elementy pochodzą z poszczególnych sekwencji."
      ]
    },
    {
      "cell_type": "code",
      "metadata": {
        "colab": {
          "base_uri": "https://localhost:8080/"
        },
        "id": "XuulPfCnSq10",
        "outputId": "905a39a0-cdbc-48d7-b700-1acecb0d65aa"
      },
      "source": [
        "for zaj, dzien in zip(zajecia, dnityg):\n",
        "  if dzien != \"Sro\":\n",
        "    print(\"Zajęcia w \" + dzien + \" to \" + zaj)"
      ],
      "execution_count": 17,
      "outputs": [
        {
          "output_type": "stream",
          "text": [
            "Zajęcia w Pon to wf\n",
            "Zajęcia w Wto to informatyka\n",
            "Zajęcia w Czwar to mispy\n",
            "Zajęcia w Pio to piateczek\n"
          ],
          "name": "stdout"
        }
      ]
    },
    {
      "cell_type": "markdown",
      "metadata": {
        "id": "B8Wk8woATGLy"
      },
      "source": [
        "### Zadanie 2"
      ]
    },
    {
      "cell_type": "markdown",
      "metadata": {
        "id": "WjjoblXxTHeg"
      },
      "source": [
        "Dane zadania."
      ]
    },
    {
      "cell_type": "code",
      "metadata": {
        "id": "Z9jmCfbDTH3m"
      },
      "source": [
        "zajecia = [[\"wf\"],\n",
        "           [\"informatyka\", \"nauka czytania\"],\n",
        "           [\"relax\", \"jedzenie\"],\n",
        "           [\"mispy\",\"mispy w domu\"],\n",
        "           [\"piateczek\", \"praca domowa z mispow\", \"Ilovemispy\", \"mispy w czasie snu\"]\n",
        "          ]\n",
        "\n",
        "dnityg= [\"Pon\",\"Wto\",\"Sro\",\"Czwar\",\"Pio\"]"
      ],
      "execution_count": 18,
      "outputs": []
    },
    {
      "cell_type": "markdown",
      "metadata": {
        "id": "xTvsqlAWTUKk"
      },
      "source": [
        "**Zadanie 2a**\n",
        "*   Zdefiniuj funkcję, która poda ile jest zajęć danego dnia.\n",
        "*   lista_zajec_z_dnia -> ile ich jest"
      ]
    },
    {
      "cell_type": "markdown",
      "metadata": {
        "id": "jD3wQLX_Taqo"
      },
      "source": [
        "Najpierw tworzony jest słownik, w którym każdy dzień z tablicy dnityg łączony jest z odpowiadającymi mu indeksem zajęciami z tablicy zajecia. Następnie definiowana jest funkcja lista_zajec_z_dnia(), która dzięki użyciu funkcji len() (zwraca ona ilość elementów danego obiektu), po podaniu jako argumentu nazwy dnia tygodnia, zwraca liczbę odbywających się wtedy zajęć."
      ]
    },
    {
      "cell_type": "code",
      "metadata": {
        "colab": {
          "base_uri": "https://localhost:8080/"
        },
        "id": "QvHrfHpHTeQr",
        "outputId": "84f64989-6342-4cea-a4c2-28cb5b2fb202"
      },
      "source": [
        "plan = dict(zip(dnityg, zajecia))\n",
        "#print(plan)\n",
        "def lista_zajec_z_dnia(dzien_tygodnia):\n",
        "  ile_zajec = len(plan[dzien_tygodnia])\n",
        "  return int(ile_zajec)\n",
        "\n",
        "#print(lista_zajec_z_dnia(\"Pon\"))\n",
        "dzien = \"Pio\"\n",
        "print((\"{} ma {} zajęć\").format(dzien,lista_zajec_z_dnia(dzien)))"
      ],
      "execution_count": 19,
      "outputs": [
        {
          "output_type": "stream",
          "text": [
            "Pio ma 4 zajęć\n"
          ],
          "name": "stdout"
        }
      ]
    },
    {
      "cell_type": "markdown",
      "metadata": {
        "id": "Mq_GDdb8TiQq"
      },
      "source": [
        "**Zadanie 2b** - posortuj dni po najbardziej zajętych"
      ]
    },
    {
      "cell_type": "markdown",
      "metadata": {
        "id": "xjAI7kmJTiim"
      },
      "source": [
        "Została wykorzystana funkcja sorted(), zwracająca posortowane elementy parametru iterable. Aby były one posortowane malejąco, parametr reversed musi przyjąć wartość \"True\"."
      ]
    },
    {
      "cell_type": "code",
      "metadata": {
        "colab": {
          "base_uri": "https://localhost:8080/"
        },
        "id": "nFsP5U_rTss6",
        "outputId": "73cd2985-3323-479c-c9a9-fc6b106d11a0"
      },
      "source": [
        "print(\"Dni tygodnia posortowane po ilości odbywających się w nich zajęć\")\n",
        "print(sorted(plan, key = lista_zajec_z_dnia, reverse = True))"
      ],
      "execution_count": 20,
      "outputs": [
        {
          "output_type": "stream",
          "text": [
            "Dni tygodnia posortowane po ilości odbywających się w nich zajęć\n",
            "['Pio', 'Wto', 'Sro', 'Czwar', 'Pon']\n"
          ],
          "name": "stdout"
        }
      ]
    },
    {
      "cell_type": "markdown",
      "metadata": {
        "id": "lrPOGcbBTviY"
      },
      "source": [
        "### Zadanie 3"
      ]
    },
    {
      "cell_type": "markdown",
      "metadata": {
        "id": "4Ibd8OiGTwJb"
      },
      "source": [
        "Napisz program, który znajdzie dzień z najwiekszą iloscia mispów."
      ]
    },
    {
      "cell_type": "markdown",
      "metadata": {
        "id": "n7v7AX5oT3g4"
      },
      "source": [
        "W każdym z dni tygodnia jest znajdowana i zliczana ilość mispów w zmiennej count. Następnie do tablicy counting do każdego dnia tygodnia dodawana jest odpowiadająca mu ilość mispów. W ostatnim kroku, dzięki użyciu funkcji max(), podawany jest dzień z największą ilością mispów w tygodniu."
      ]
    },
    {
      "cell_type": "code",
      "metadata": {
        "colab": {
          "base_uri": "https://localhost:8080/"
        },
        "id": "S1jEDLCmTwfm",
        "outputId": "7bd73389-c204-49a1-b44b-25d3a680f52b"
      },
      "source": [
        "counting = []\n",
        "for dzien_tyg in plan:\n",
        "  #print(plan[dzien_tyg])\n",
        "  count = 0\n",
        "  for zajecia in plan[dzien_tyg]:\n",
        "    count += zajecia.count('misp')\n",
        "  #print(count)\n",
        "  counting.append([dzien_tyg,count])\n",
        "#print(counting)\n",
        "def klucz(miejsce):\n",
        "         return int(miejsce[1]) \n",
        "max = max(counting, key = klucz)\n",
        "print(\"Dzień z największą ilością zajęć to {}, ilość zajęć to {}\".format(max[0],max[1]))"
      ],
      "execution_count": 25,
      "outputs": [
        {
          "output_type": "stream",
          "text": [
            "Dzień z największą ilością zajęć to Pio, ilość zajęć to 3\n"
          ],
          "name": "stdout"
        }
      ]
    }
  ]
}